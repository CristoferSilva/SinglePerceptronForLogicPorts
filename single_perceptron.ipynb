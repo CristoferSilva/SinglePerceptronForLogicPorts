{
  "cells": [
    {
      "cell_type": "markdown",
      "metadata": {
        "id": "oaKRvEkoYojD"
      },
      "source": [
        "\n",
        "## Imports\n"
      ]
    },
    {
      "cell_type": "code",
      "execution_count": null,
      "metadata": {
        "colab": {
          "base_uri": "https://localhost:8080/"
        },
        "id": "x_Iit4iNYojJ",
        "outputId": "c7f73fd8-e73c-4801-eb99-b3b7ed8fff17"
      },
      "outputs": [
        {
          "output_type": "stream",
          "name": "stdout",
          "text": [
            "Requirement already satisfied: numpy in /usr/local/lib/python3.10/dist-packages (1.25.2)\n"
          ]
        }
      ],
      "source": [
        "%pip install numpy\n",
        "import numpy as np"
      ]
    },
    {
      "cell_type": "markdown",
      "metadata": {
        "id": "8Q1H15LjYojL"
      },
      "source": [
        "## Dataset"
      ]
    },
    {
      "cell_type": "code",
      "execution_count": null,
      "metadata": {
        "colab": {
          "base_uri": "https://localhost:8080/"
        },
        "id": "x59Uqm_QYojM",
        "outputId": "05baef6e-2e63-4432-85dd-4c44850cb110"
      },
      "outputs": [
        {
          "output_type": "execute_result",
          "data": {
            "text/plain": [
              "{'OR': array([[0, 0, 0],\n",
              "        [0, 1, 1],\n",
              "        [1, 0, 1],\n",
              "        [1, 1, 1]]),\n",
              " 'XOR': array([[0, 0, 0],\n",
              "        [0, 1, 1],\n",
              "        [1, 0, 1],\n",
              "        [1, 1, 0]]),\n",
              " 'AND': array([[0, 0, 0],\n",
              "        [0, 1, 0],\n",
              "        [1, 0, 0],\n",
              "        [1, 1, 1]])}"
            ]
          },
          "metadata": {},
          "execution_count": 8
        }
      ],
      "source": [
        "XY_or_port = np.array([\n",
        "            [0,0, 0],\n",
        "            [0,1, 1],\n",
        "            [1,0, 1],\n",
        "            [1,1, 1],\n",
        "           ])\n",
        "\n",
        "XY_xor_port =  np.array([\n",
        "            [0,0, 0],\n",
        "            [0,1, 1],\n",
        "            [1,0, 1],\n",
        "            [1,1, 0],\n",
        "           ])\n",
        "\n",
        "XY_AND_port =  np.array([\n",
        "            [0,0, 0],\n",
        "            [0,1, 0],\n",
        "            [1,0, 0],\n",
        "            [1,1, 1],\n",
        "           ])\n",
        "\n",
        "dataset = {\n",
        "    'OR':  XY_or_port,\n",
        "    'XOR': XY_xor_port,\n",
        "    'AND': XY_AND_port\n",
        "}\n",
        "\n",
        "dataset"
      ]
    },
    {
      "cell_type": "markdown",
      "metadata": {
        "id": "7e1kkFHmYojN"
      },
      "source": [
        "## Model"
      ]
    },
    {
      "cell_type": "code",
      "execution_count": null,
      "metadata": {
        "id": "KQhc7ZNwYojO"
      },
      "outputs": [],
      "source": [
        "class SinglePerceptronForLogicPorts():\n",
        "    def __init__(self) -> None:\n",
        "        self.W = None\n",
        "\n",
        "    def predict(self, X, W):\n",
        "        dot_product = X @ W.T\n",
        "        if int(dot_product) >= 0:\n",
        "            return 1\n",
        "        return 0\n",
        "\n",
        "    def fit(self, W, data, bias = 1.0, learning_rate = 1.0):\n",
        "        X, Y = self.__get_X_Y(data, bias)\n",
        "        N = len(Y) # N X D\n",
        "        stop = False\n",
        "\n",
        "        while(stop == False):\n",
        "            for i in range(N):\n",
        "                y_hat = self.predict(X[i], W)\n",
        "                y = Y[i]\n",
        "                if y < y_hat:\n",
        "\n",
        "                    self.__print_weight(W, 'old')\n",
        "\n",
        "                    W = learning_rate * self.__subtract_update_W(X[i], W)\n",
        "\n",
        "                    self.__print_weight(W, 'new')\n",
        "\n",
        "                elif y > y_hat:\n",
        "\n",
        "                    self.__print_weight(W, 'old')\n",
        "\n",
        "                    W = learning_rate * self.__sum_update_W(X[i], W)\n",
        "\n",
        "                    self.__print_weight(W, 'new')\n",
        "\n",
        "            stop = self.__stop_train(X, W, Y)\n",
        "\n",
        "        print('The training ended | Final Weights=')\n",
        "        print(W)\n",
        "\n",
        "    def __print_weight(self, W, status):\n",
        "        print(status + '_weight =')\n",
        "        print(W)\n",
        "\n",
        "    def __get_X_Y(self, data_matrix, bias):\n",
        "        X = []\n",
        "        Y = []\n",
        "        for line in data_matrix:\n",
        "            X.append(np.append(bias, line[:2]))\n",
        "            Y.append(line[2])\n",
        "        return np.array(X), np.array(Y)\n",
        "\n",
        "    def __stop_train(self, X, W, Y):\n",
        "        interaction = len(Y)\n",
        "        for i in range(interaction):\n",
        "            y_hat = self.predict(X[i], W)\n",
        "            y = Y[i]\n",
        "            if y != y_hat:\n",
        "                return False\n",
        "        return True\n",
        "\n",
        "    def __sum_update_W (self, X, W):\n",
        "        return W + X\n",
        "\n",
        "    def __subtract_update_W (self, X, W):\n",
        "        return  W - X\n",
        "\n"
      ]
    },
    {
      "cell_type": "markdown",
      "metadata": {
        "id": "_JdPkxq8YojP"
      },
      "source": [
        "## Run Model"
      ]
    },
    {
      "cell_type": "code",
      "execution_count": null,
      "metadata": {
        "colab": {
          "base_uri": "https://localhost:8080/"
        },
        "id": "8oMfRLz5YojQ",
        "outputId": "d48aaa93-fa4b-48c0-8e8b-67dfc82cd170"
      },
      "outputs": [
        {
          "output_type": "stream",
          "name": "stdout",
          "text": [
            "old_weight =\n",
            "[0 0 1]\n",
            "new_weight =\n",
            "[-1.  0.  1.]\n",
            "old_weight =\n",
            "[-1.  0.  1.]\n",
            "new_weight =\n",
            "[0. 1. 1.]\n",
            "old_weight =\n",
            "[0. 1. 1.]\n",
            "new_weight =\n",
            "[-1.  1.  1.]\n",
            "The training ended | Final Weights=\n",
            "[-1.  1.  1.]\n"
          ]
        }
      ],
      "source": [
        "initial_W = np.array([0,0,1])\n",
        "data = dataset['OR']\n",
        "\n",
        "model = SinglePerceptronForLogicPorts()\n",
        "model.fit(initial_W,data)"
      ]
    }
  ],
  "metadata": {
    "kernelspec": {
      "display_name": ".venv",
      "language": "python",
      "name": "python3"
    },
    "language_info": {
      "codemirror_mode": {
        "name": "ipython",
        "version": 3
      },
      "file_extension": ".py",
      "mimetype": "text/x-python",
      "name": "python",
      "nbconvert_exporter": "python",
      "pygments_lexer": "ipython3",
      "version": "3.9.6"
    },
    "colab": {
      "provenance": []
    }
  },
  "nbformat": 4,
  "nbformat_minor": 0
}