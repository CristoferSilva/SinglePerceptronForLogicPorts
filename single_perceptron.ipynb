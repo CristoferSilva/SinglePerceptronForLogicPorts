{
  "cells": [
    {
      "cell_type": "markdown",
      "metadata": {
        "id": "oaKRvEkoYojD"
      },
      "source": [
        "\n",
        "### Imports\n"
      ]
    },
    {
      "cell_type": "code",
      "execution_count": 1,
      "metadata": {
        "colab": {
          "base_uri": "https://localhost:8080/"
        },
        "id": "x_Iit4iNYojJ",
        "outputId": "c7f73fd8-e73c-4801-eb99-b3b7ed8fff17"
      },
      "outputs": [],
      "source": [
        "#%pip install numpy\n",
        "# %pip install matplotlib\n",
        "#import matplotlib.pyplot as plt\n",
        "import numpy as np"
      ]
    },
    {
      "cell_type": "markdown",
      "metadata": {
        "id": "8Q1H15LjYojL"
      },
      "source": [
        "### Dataset"
      ]
    },
    {
      "cell_type": "code",
      "execution_count": 2,
      "metadata": {
        "colab": {
          "base_uri": "https://localhost:8080/"
        },
        "id": "x59Uqm_QYojM",
        "outputId": "05baef6e-2e63-4432-85dd-4c44850cb110"
      },
      "outputs": [
        {
          "data": {
            "text/plain": [
              "{'OR': array([[0, 0, 0],\n",
              "        [0, 1, 1],\n",
              "        [1, 0, 1],\n",
              "        [1, 1, 1]]),\n",
              " 'XOR': array([[0, 0, 0],\n",
              "        [0, 1, 1],\n",
              "        [1, 0, 1],\n",
              "        [1, 1, 0]]),\n",
              " 'AND': array([[0, 0, 0],\n",
              "        [0, 1, 0],\n",
              "        [1, 0, 0],\n",
              "        [1, 1, 1]]),\n",
              " 'Exercise9': array([[0, 0, 0],\n",
              "        [0, 1, 1],\n",
              "        [1, 0, 0],\n",
              "        [1, 1, 0]]),\n",
              " 'Exercise11': array([[0, 0, 1],\n",
              "        [0, 1, 1],\n",
              "        [1, 0, 0],\n",
              "        [1, 1, 1]])}"
            ]
          },
          "execution_count": 2,
          "metadata": {},
          "output_type": "execute_result"
        }
      ],
      "source": [
        "XY_or_port = np.array([\n",
        "            [0,0, 0],\n",
        "            [0,1, 1],\n",
        "            [1,0, 1],\n",
        "            [1,1, 1],\n",
        "           ])\n",
        "\n",
        "XY_xor_port =  np.array([\n",
        "            [0,0, 0],\n",
        "            [0,1, 1],\n",
        "            [1,0, 1],\n",
        "            [1,1, 0],\n",
        "           ])\n",
        "\n",
        "XY_AND_port =  np.array([\n",
        "            [0,0, 0],\n",
        "            [0,1, 0],\n",
        "            [1,0, 0],\n",
        "            [1,1, 1],\n",
        "           ])\n",
        "\n",
        "XY_Execise9_port =  np.array([\n",
        "            [0,0, 0],\n",
        "            [0,1, 1],\n",
        "            [1,0, 0],\n",
        "            [1,1, 0],\n",
        "           ])\n",
        "\n",
        "XY_Execise11_port =  np.array([\n",
        "            [0,0, 1],\n",
        "            [0,1, 1],\n",
        "            [1,0, 0],\n",
        "            [1,1, 1],\n",
        "           ])\n",
        "\n",
        "dataset = {\n",
        "    'OR':  XY_or_port,\n",
        "    'XOR': XY_xor_port,\n",
        "    'AND': XY_AND_port,\n",
        "    'Exercise9': XY_Execise9_port,\n",
        "    'Exercise11': XY_Execise11_port,\n",
        "}\n",
        "\n",
        "dataset"
      ]
    },
    {
      "cell_type": "code",
      "execution_count": 3,
      "metadata": {},
      "outputs": [],
      "source": [
        "data = dataset['OR']"
      ]
    },
    {
      "cell_type": "markdown",
      "metadata": {
        "id": "_JdPkxq8YojP"
      },
      "source": [
        "### Train Model"
      ]
    },
    {
      "cell_type": "code",
      "execution_count": 5,
      "metadata": {
        "colab": {
          "base_uri": "https://localhost:8080/"
        },
        "id": "8oMfRLz5YojQ",
        "outputId": "d48aaa93-fa4b-48c0-8e8b-67dfc82cd170"
      },
      "outputs": [
        {
          "name": "stdout",
          "output_type": "stream",
          "text": [
            "old_weight = [0 0 1]\n",
            "new_weight = [-1.  0.  1.]\n",
            "old_weight = [-1.  0.  1.]\n",
            "new_weight = [0. 1. 1.]\n",
            "old_weight = [0. 1. 1.]\n",
            "new_weight = [-1.  1.  1.]\n",
            "The training ended | Final Weights= [-1.  1.  1.]\n"
          ]
        }
      ],
      "source": [
        "from models.singlePerceptronForLogicPorts import SinglePerceptronForLogicPorts\n",
        "\n",
        "initial_W = np.array([0,0,1])\n",
        "model = SinglePerceptronForLogicPorts()\n",
        "model.fit(data,initial_W)"
      ]
    },
    {
      "cell_type": "code",
      "execution_count": null,
      "metadata": {},
      "outputs": [],
      "source": [
        "np.inf"
      ]
    }
  ],
  "metadata": {
    "colab": {
      "provenance": []
    },
    "kernelspec": {
      "display_name": ".venv",
      "language": "python",
      "name": "python3"
    },
    "language_info": {
      "codemirror_mode": {
        "name": "ipython",
        "version": 3
      },
      "file_extension": ".py",
      "mimetype": "text/x-python",
      "name": "python",
      "nbconvert_exporter": "python",
      "pygments_lexer": "ipython3",
      "version": "3.9.6"
    }
  },
  "nbformat": 4,
  "nbformat_minor": 0
}
