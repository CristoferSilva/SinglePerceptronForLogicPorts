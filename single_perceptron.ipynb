{
  "cells": [
    {
      "cell_type": "markdown",
      "metadata": {
        "id": "oaKRvEkoYojD"
      },
      "source": [
        "\n",
        "## Imports\n"
      ]
    },
    {
      "cell_type": "code",
      "execution_count": 1,
      "metadata": {
        "colab": {
          "base_uri": "https://localhost:8080/"
        },
        "id": "x_Iit4iNYojJ",
        "outputId": "c7f73fd8-e73c-4801-eb99-b3b7ed8fff17"
      },
      "outputs": [],
      "source": [
        "# %pip install numpy\n",
        "# %pip install matplotlib\n",
        "import numpy as np\n",
        "import matplotlib.pyplot as plt"
      ]
    },
    {
      "cell_type": "markdown",
      "metadata": {
        "id": "8Q1H15LjYojL"
      },
      "source": [
        "## Dataset"
      ]
    },
    {
      "cell_type": "code",
      "execution_count": 2,
      "metadata": {
        "colab": {
          "base_uri": "https://localhost:8080/"
        },
        "id": "x59Uqm_QYojM",
        "outputId": "05baef6e-2e63-4432-85dd-4c44850cb110"
      },
      "outputs": [
        {
          "data": {
            "text/plain": [
              "{'OR': array([[0, 0, 0],\n",
              "        [0, 1, 1],\n",
              "        [1, 0, 1],\n",
              "        [1, 1, 1]]),\n",
              " 'XOR': array([[0, 0, 0],\n",
              "        [0, 1, 1],\n",
              "        [1, 0, 1],\n",
              "        [1, 1, 0]]),\n",
              " 'AND': array([[0, 0, 0],\n",
              "        [0, 1, 0],\n",
              "        [1, 0, 0],\n",
              "        [1, 1, 1]]),\n",
              " 'Exercise9': array([[0, 0, 0],\n",
              "        [0, 1, 1],\n",
              "        [1, 0, 0],\n",
              "        [1, 1, 0]]),\n",
              " 'Exercise11': array([[0, 0, 1],\n",
              "        [0, 1, 1],\n",
              "        [1, 0, 0],\n",
              "        [1, 1, 1]])}"
            ]
          },
          "execution_count": 2,
          "metadata": {},
          "output_type": "execute_result"
        }
      ],
      "source": [
        "XY_or_port = np.array([\n",
        "            [0,0, 0],\n",
        "            [0,1, 1],\n",
        "            [1,0, 1],\n",
        "            [1,1, 1],\n",
        "           ])\n",
        "\n",
        "XY_xor_port =  np.array([\n",
        "            [0,0, 0],\n",
        "            [0,1, 1],\n",
        "            [1,0, 1],\n",
        "            [1,1, 0],\n",
        "           ])\n",
        "\n",
        "XY_AND_port =  np.array([\n",
        "            [0,0, 0],\n",
        "            [0,1, 0],\n",
        "            [1,0, 0],\n",
        "            [1,1, 1],\n",
        "           ])\n",
        "\n",
        "XY_Execise9_port =  np.array([\n",
        "            [0,0, 0],\n",
        "            [0,1, 1],\n",
        "            [1,0, 0],\n",
        "            [1,1, 0],\n",
        "           ])\n",
        "\n",
        "XY_Execise11_port =  np.array([\n",
        "            [0,0, 1],\n",
        "            [0,1, 1],\n",
        "            [1,0, 0],\n",
        "            [1,1, 1],\n",
        "           ])\n",
        "\n",
        "dataset = {\n",
        "    'OR':  XY_or_port,\n",
        "    'XOR': XY_xor_port,\n",
        "    'AND': XY_AND_port,\n",
        "    'Exercise9': XY_Execise9_port,\n",
        "    'Exercise11': XY_Execise11_port,\n",
        "}\n",
        "\n",
        "dataset"
      ]
    },
    {
      "cell_type": "markdown",
      "metadata": {
        "id": "7e1kkFHmYojN"
      },
      "source": [
        "## Model"
      ]
    },
    {
      "cell_type": "code",
      "execution_count": 9,
      "metadata": {
        "id": "KQhc7ZNwYojO"
      },
      "outputs": [],
      "source": [
        "def heaviside_step_function(a):\n",
        "    if int(a) >= 0:\n",
        "        return 1\n",
        "    return 0\n",
        "\n",
        "class SinglePerceptronForLogicPorts():\n",
        "    def __init__(self, activation_function = heaviside_step_function) -> None:\n",
        "        self.W = []\n",
        "        self.activation_function = activation_function\n",
        "\n",
        "    def predict(self, X):\n",
        "        dot_product = X @ self.W.T\n",
        "        y_hat = self.activation_function(dot_product)\n",
        "        return y_hat\n",
        "\n",
        "    def fit(self, data, W=[], bias = 1.0, learning_rate = 1.0):\n",
        "        X, Y = self.__get_X_Y(data, bias)\n",
        "        N = len(Y) # N X D\n",
        "        self.W = W\n",
        "\n",
        "        if len(W) == 0:\n",
        "            self.W = np.zeros(N)\n",
        "            \n",
        "        stop = False\n",
        "\n",
        "        while(stop == False):\n",
        "            for i in range(N):\n",
        "                y_hat = self.predict(X[i])\n",
        "                y = Y[i]\n",
        "                if y < y_hat:\n",
        "\n",
        "                    self.__print_weight(self.W, 'old')\n",
        "\n",
        "                    self.W = learning_rate * self.__subtract_update_W(X[i], self.W)\n",
        "\n",
        "                    self.__print_weight(self.W, 'new')\n",
        "\n",
        "                elif y > y_hat:\n",
        "\n",
        "                    self.__print_weight(self.W, 'old')\n",
        "\n",
        "                    self.W = learning_rate * self.__sum_update_W(X[i], self.W)\n",
        "\n",
        "                    self.__print_weight(self.W, 'new')\n",
        "\n",
        "            stop = self.__stop_train(X, Y)\n",
        "\n",
        "        print('The training ended | Final Weights=')\n",
        "        print(self.W)\n",
        "\n",
        "    def __print_weight(self, W, status):\n",
        "        print(status + '_weight =')\n",
        "        print(W)\n",
        "\n",
        "    def __get_X_Y(self, data_matrix, bias):\n",
        "        X = []\n",
        "        Y = []\n",
        "        for line in data_matrix:\n",
        "            X.append(np.append(bias, line[:2]))\n",
        "            Y.append(line[2])\n",
        "        return np.array(X), np.array(Y)\n",
        "\n",
        "    def __stop_train(self, X, Y):\n",
        "        interaction = len(Y)\n",
        "        for i in range(interaction):\n",
        "            y_hat = self.predict(X[i])\n",
        "            y = Y[i]\n",
        "            if y != y_hat:\n",
        "                return False\n",
        "        return True\n",
        "\n",
        "    def __sum_update_W (self, X, W):\n",
        "        return W + X\n",
        "\n",
        "    def __subtract_update_W (self, X, W):\n",
        "        return  W - X\n",
        "\n"
      ]
    },
    {
      "cell_type": "markdown",
      "metadata": {
        "id": "_JdPkxq8YojP"
      },
      "source": [
        "## Run Model"
      ]
    },
    {
      "cell_type": "code",
      "execution_count": 10,
      "metadata": {
        "colab": {
          "base_uri": "https://localhost:8080/"
        },
        "id": "8oMfRLz5YojQ",
        "outputId": "d48aaa93-fa4b-48c0-8e8b-67dfc82cd170"
      },
      "outputs": [
        {
          "name": "stdout",
          "output_type": "stream",
          "text": [
            "old_weight =\n",
            "[0 0 1]\n",
            "new_weight =\n",
            "[-1.  0.  1.]\n",
            "old_weight =\n",
            "[-1.  0.  1.]\n",
            "new_weight =\n",
            "[0. 1. 1.]\n",
            "old_weight =\n",
            "[0. 1. 1.]\n",
            "new_weight =\n",
            "[-1.  1.  1.]\n",
            "The training ended | Final Weights=\n",
            "[-1.  1.  1.]\n"
          ]
        }
      ],
      "source": [
        "initial_W = np.array([0,0,1])\n",
        "data = dataset['OR']\n",
        "\n",
        "model = SinglePerceptronForLogicPorts()\n",
        "model.fit(data,initial_W,)"
      ]
    },
    {
      "cell_type": "code",
      "execution_count": null,
      "metadata": {},
      "outputs": [],
      "source": []
    }
  ],
  "metadata": {
    "colab": {
      "provenance": []
    },
    "kernelspec": {
      "display_name": ".venv",
      "language": "python",
      "name": "python3"
    },
    "language_info": {
      "codemirror_mode": {
        "name": "ipython",
        "version": 3
      },
      "file_extension": ".py",
      "mimetype": "text/x-python",
      "name": "python",
      "nbconvert_exporter": "python",
      "pygments_lexer": "ipython3",
      "version": "3.9.6"
    }
  },
  "nbformat": 4,
  "nbformat_minor": 0
}
