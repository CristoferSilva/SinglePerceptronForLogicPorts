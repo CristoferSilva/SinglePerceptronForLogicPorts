{
  "cells": [
    {
      "cell_type": "markdown",
      "metadata": {
        "id": "oaKRvEkoYojD"
      },
      "source": [
        "\n",
        "## Imports\n"
      ]
    },
    {
      "cell_type": "code",
      "execution_count": 1,
      "metadata": {
        "colab": {
          "base_uri": "https://localhost:8080/"
        },
        "id": "x_Iit4iNYojJ",
        "outputId": "c7f73fd8-e73c-4801-eb99-b3b7ed8fff17"
      },
      "outputs": [
        {
          "name": "stdout",
          "output_type": "stream",
          "text": [
            "Defaulting to user installation because normal site-packages is not writeable\n",
            "Collecting numpy\n",
            "  Downloading numpy-1.26.4-cp39-cp39-macosx_11_0_arm64.whl (14.0 MB)\n",
            "\u001b[K     |████████████████████████████████| 14.0 MB 1.9 MB/s eta 0:00:01     |████████████████████████▎       | 10.6 MB 1.9 MB/s eta 0:00:02\n",
            "\u001b[?25hInstalling collected packages: numpy\n",
            "Successfully installed numpy-1.26.4\n",
            "\u001b[33mWARNING: You are using pip version 21.2.4; however, version 24.0 is available.\n",
            "You should consider upgrading via the '/Applications/Xcode.app/Contents/Developer/usr/bin/python3 -m pip install --upgrade pip' command.\u001b[0m\n",
            "Note: you may need to restart the kernel to use updated packages.\n"
          ]
        }
      ],
      "source": [
        "%pip install numpy\n",
        "import numpy as np"
      ]
    },
    {
      "cell_type": "markdown",
      "metadata": {
        "id": "8Q1H15LjYojL"
      },
      "source": [
        "## Dataset"
      ]
    },
    {
      "cell_type": "code",
      "execution_count": 5,
      "metadata": {
        "colab": {
          "base_uri": "https://localhost:8080/"
        },
        "id": "x59Uqm_QYojM",
        "outputId": "05baef6e-2e63-4432-85dd-4c44850cb110"
      },
      "outputs": [
        {
          "data": {
            "text/plain": [
              "{'OR': array([[0, 0, 0],\n",
              "        [0, 1, 1],\n",
              "        [1, 0, 1],\n",
              "        [1, 1, 1]]),\n",
              " 'XOR': array([[0, 0, 0],\n",
              "        [0, 1, 1],\n",
              "        [1, 0, 1],\n",
              "        [1, 1, 0]]),\n",
              " 'AND': array([[0, 0, 0],\n",
              "        [0, 1, 0],\n",
              "        [1, 0, 0],\n",
              "        [1, 1, 1]]),\n",
              " 'Exercise9': array([[0, 0, 0],\n",
              "        [0, 1, 1],\n",
              "        [1, 0, 0],\n",
              "        [1, 1, 0]])}"
            ]
          },
          "execution_count": 5,
          "metadata": {},
          "output_type": "execute_result"
        }
      ],
      "source": [
        "XY_or_port = np.array([\n",
        "            [0,0, 0],\n",
        "            [0,1, 1],\n",
        "            [1,0, 1],\n",
        "            [1,1, 1],\n",
        "           ])\n",
        "\n",
        "XY_xor_port =  np.array([\n",
        "            [0,0, 0],\n",
        "            [0,1, 1],\n",
        "            [1,0, 1],\n",
        "            [1,1, 0],\n",
        "           ])\n",
        "\n",
        "XY_AND_port =  np.array([\n",
        "            [0,0, 0],\n",
        "            [0,1, 0],\n",
        "            [1,0, 0],\n",
        "            [1,1, 1],\n",
        "           ])\n",
        "\n",
        "XY_Execise9_port =  np.array([\n",
        "            [0,0, 0],\n",
        "            [0,1, 1],\n",
        "            [1,0, 0],\n",
        "            [1,1, 0],\n",
        "           ])\n",
        "\n",
        "dataset = {\n",
        "    'OR':  XY_or_port,\n",
        "    'XOR': XY_xor_port,\n",
        "    'AND': XY_AND_port,\n",
        "    'Exercise9': XY_Execise9_port,\n",
        "}\n",
        "\n",
        "dataset"
      ]
    },
    {
      "cell_type": "markdown",
      "metadata": {
        "id": "7e1kkFHmYojN"
      },
      "source": [
        "## Model"
      ]
    },
    {
      "cell_type": "code",
      "execution_count": 3,
      "metadata": {
        "id": "KQhc7ZNwYojO"
      },
      "outputs": [],
      "source": [
        "class SinglePerceptronForLogicPorts():\n",
        "    def __init__(self, activation_function) -> None:\n",
        "        self.W = None\n",
        "        self.activation_function = activation_function\n",
        "\n",
        "    def predict(self, X, W):\n",
        "        dot_product = X @ W.T\n",
        "        y_hat = self.activation_function(dot_product)\n",
        "        return y_hat\n",
        "\n",
        "    def fit(self, W, data, bias = 1.0, learning_rate = 1.0):\n",
        "        X, Y = self.__get_X_Y(data, bias)\n",
        "        N = len(Y) # N X D\n",
        "        stop = False\n",
        "\n",
        "        while(stop == False):\n",
        "            for i in range(N):\n",
        "                y_hat = self.predict(X[i], W)\n",
        "                y = Y[i]\n",
        "                if y < y_hat:\n",
        "\n",
        "                    self.__print_weight(W, 'old')\n",
        "\n",
        "                    W = learning_rate * self.__subtract_update_W(X[i], W)\n",
        "\n",
        "                    self.__print_weight(W, 'new')\n",
        "\n",
        "                elif y > y_hat:\n",
        "\n",
        "                    self.__print_weight(W, 'old')\n",
        "\n",
        "                    W = learning_rate * self.__sum_update_W(X[i], W)\n",
        "\n",
        "                    self.__print_weight(W, 'new')\n",
        "\n",
        "            stop = self.__stop_train(X, W, Y)\n",
        "\n",
        "        print('The training ended | Final Weights=')\n",
        "        print(W)\n",
        "\n",
        "    def __print_weight(self, W, status):\n",
        "        print(status + '_weight =')\n",
        "        print(W)\n",
        "\n",
        "    def __get_X_Y(self, data_matrix, bias):\n",
        "        X = []\n",
        "        Y = []\n",
        "        for line in data_matrix:\n",
        "            X.append(np.append(bias, line[:2]))\n",
        "            Y.append(line[2])\n",
        "        return np.array(X), np.array(Y)\n",
        "\n",
        "    def __stop_train(self, X, W, Y):\n",
        "        interaction = len(Y)\n",
        "        for i in range(interaction):\n",
        "            y_hat = self.predict(X[i], W)\n",
        "            y = Y[i]\n",
        "            if y != y_hat:\n",
        "                return False\n",
        "        return True\n",
        "\n",
        "    def __sum_update_W (self, X, W):\n",
        "        return W + X\n",
        "\n",
        "    def __subtract_update_W (self, X, W):\n",
        "        return  W - X\n",
        "\n"
      ]
    },
    {
      "cell_type": "markdown",
      "metadata": {
        "id": "_JdPkxq8YojP"
      },
      "source": [
        "## Run Model"
      ]
    },
    {
      "cell_type": "code",
      "execution_count": 6,
      "metadata": {
        "colab": {
          "base_uri": "https://localhost:8080/"
        },
        "id": "8oMfRLz5YojQ",
        "outputId": "d48aaa93-fa4b-48c0-8e8b-67dfc82cd170"
      },
      "outputs": [
        {
          "name": "stdout",
          "output_type": "stream",
          "text": [
            "old_weight =\n",
            "[0 0 0]\n",
            "new_weight =\n",
            "[-1.  0.  0.]\n",
            "old_weight =\n",
            "[-1.  0.  0.]\n",
            "new_weight =\n",
            "[0. 0. 1.]\n",
            "old_weight =\n",
            "[0. 0. 1.]\n",
            "new_weight =\n",
            "[-1. -1.  1.]\n",
            "The training ended | Final Weights=\n",
            "[-1. -1.  1.]\n"
          ]
        }
      ],
      "source": [
        "initial_W = np.array([0,0,0])\n",
        "data = dataset['Exercise9']\n",
        "\n",
        "model = SinglePerceptronForLogicPorts()\n",
        "model.fit(initial_W,data)"
      ]
    },
    {
      "cell_type": "code",
      "execution_count": null,
      "metadata": {},
      "outputs": [],
      "source": []
    }
  ],
  "metadata": {
    "colab": {
      "provenance": []
    },
    "kernelspec": {
      "display_name": ".venv",
      "language": "python",
      "name": "python3"
    },
    "language_info": {
      "codemirror_mode": {
        "name": "ipython",
        "version": 3
      },
      "file_extension": ".py",
      "mimetype": "text/x-python",
      "name": "python",
      "nbconvert_exporter": "python",
      "pygments_lexer": "ipython3",
      "version": "3.9.6"
    }
  },
  "nbformat": 4,
  "nbformat_minor": 0
}
